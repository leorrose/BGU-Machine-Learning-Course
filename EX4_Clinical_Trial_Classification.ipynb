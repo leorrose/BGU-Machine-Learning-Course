{
  "cells": [
    {
      "cell_type": "markdown",
      "metadata": {
        "id": "3SXbEazTNSax"
      },
      "source": [
        "# ***EX4 - Clinical Trial Classification***"
      ]
    },
    {
      "cell_type": "markdown",
      "metadata": {
        "id": "dAfeNKdhZdoZ"
      },
      "source": [
        "In this exercise, you are given (a part of) a data set from a clinical trial You will need to use 3 types of prediction models and compare between them:\n",
        "\n",
        "- The first model should be a linear classifier.\n",
        "- The second one should be an ensemble model.\n",
        "- The third should be a DL one.\n",
        "\n",
        "Use the concepts we learn in class: train/validation/test split, grid-search, cross validation etc. Notice, there is no need to implement the models, you can use scikit ones.\n",
        "\n",
        "jupyter notebook should contain the next sections:\n",
        " - Loading the data (clean, transform if needed). \n",
        " - Train the three models. \n",
        " - Comparison between the three: quantitative and qualitative (think what is the evaluation method you use).\n",
        "\n",
        "Answer the next questions:\n",
        "- For each model, does the model overfit?\n",
        "- In the DL model, what's the effect of batch size? In general, and do you see this effect in the current task?\n",
        "\n",
        "Notice: You need to well explain why you choose the specific algorithms, configurations, or other decisions you made.\n",
        "In the end, briefly summarize the method and details."
      ]
    },
    {
      "cell_type": "markdown",
      "metadata": {
        "id": "CXzg8EQ6NGAS"
      },
      "source": [
        "### ***Import Packages***"
      ]
    },
    {
      "cell_type": "markdown",
      "metadata": {
        "id": "3sLhUN7xQR3G"
      },
      "source": [
        "Lets load all the needed packages for this notebook:"
      ]
    },
    {
      "cell_type": "code",
      "execution_count": 1,
      "metadata": {
        "id": "qQSSIbR6NGNl"
      },
      "outputs": [],
      "source": [
        "import pandas as pd\n",
        "import numpy as np\n",
        "import seaborn as sns\n",
        "from matplotlib import pyplot as plt\n",
        "from sklearn.pipeline import Pipeline\n",
        "from sklearn.compose import ColumnTransformer\n",
        "from sklearn.impute import SimpleImputer\n",
        "from sklearn.preprocessing import StandardScaler\n",
        "from sklearn.preprocessing import OneHotEncoder\n",
        "from sklearn.preprocessing import FunctionTransformer\n",
        "from sklearn.model_selection import train_test_split\n",
        "from sklearn.model_selection import StratifiedKFold\n",
        "from sklearn.model_selection import GridSearchCV\n",
        "from sklearn.linear_model import LogisticRegression\n",
        "from sklearn.ensemble import AdaBoostClassifier\n",
        "from sklearn.neural_network import MLPClassifier\n",
        "from sklearn.metrics import confusion_matrix\n",
        "from sklearn.metrics import make_scorer\n",
        "from imblearn.over_sampling import SMOTE\n",
        "from imblearn.metrics import geometric_mean_score"
      ]
    },
    {
      "cell_type": "markdown",
      "metadata": {
        "id": "bDb43rf3M6YG"
      },
      "source": [
        "### ***Load Data***"
      ]
    },
    {
      "cell_type": "markdown",
      "metadata": {
        "id": "kMlt3QuaQdO5"
      },
      "source": [
        "Let’s load the data set using Pandas:"
      ]
    },
    {
      "cell_type": "code",
      "execution_count": 2,
      "metadata": {
        "id": "61XMUaTpq3ni"
      },
      "outputs": [],
      "source": [
        "df = pd.read_csv(\"/content/ex4_data.csv\")"
      ]
    },
    {
      "cell_type": "markdown",
      "metadata": {
        "id": "UsIVnibGQf3e"
      },
      "source": [
        "### ***Quick Look at the Data:***"
      ]
    },
    {
      "cell_type": "markdown",
      "metadata": {
        "id": "VKHdsIBZQiam"
      },
      "source": [
        "Let’s take a look at the top five rows:"
      ]
    },
    {
      "cell_type": "code",
      "execution_count": 3,
      "metadata": {
        "colab": {
          "base_uri": "https://localhost:8080/",
          "height": 270
        },
        "id": "O4pfnQwCQjI3",
        "outputId": "fbe12686-8237-4e69-bda1-a6f9e104377f"
      },
      "outputs": [
        {
          "data": {
            "text/html": [
              "\n",
              "  <div id=\"df-bd35cf7c-0b12-4c0f-8479-795fdfab0b7f\">\n",
              "    <div class=\"colab-df-container\">\n",
              "      <div>\n",
              "<style scoped>\n",
              "    .dataframe tbody tr th:only-of-type {\n",
              "        vertical-align: middle;\n",
              "    }\n",
              "\n",
              "    .dataframe tbody tr th {\n",
              "        vertical-align: top;\n",
              "    }\n",
              "\n",
              "    .dataframe thead th {\n",
              "        text-align: right;\n",
              "    }\n",
              "</style>\n",
              "<table border=\"1\" class=\"dataframe\">\n",
              "  <thead>\n",
              "    <tr style=\"text-align: right;\">\n",
              "      <th></th>\n",
              "      <th>INTENSIVE</th>\n",
              "      <th>NEWSITEID</th>\n",
              "      <th>RISK10YRS</th>\n",
              "      <th>INCLUSIONFRS</th>\n",
              "      <th>SBP</th>\n",
              "      <th>DBP</th>\n",
              "      <th>N_AGENTS</th>\n",
              "      <th>NOAGENTS</th>\n",
              "      <th>SMOKE_3CAT</th>\n",
              "      <th>ASPIRIN</th>\n",
              "      <th>EGFR</th>\n",
              "      <th>SCREAT</th>\n",
              "      <th>SUB_CKD</th>\n",
              "      <th>RACE_BLACK</th>\n",
              "      <th>AGE</th>\n",
              "      <th>FEMALE</th>\n",
              "      <th>SUB_CVD</th>\n",
              "      <th>SUB_CLINICALCVD</th>\n",
              "      <th>SUB_SUBCLINICALCVD</th>\n",
              "      <th>SUB_SENIOR</th>\n",
              "      <th>RACE4</th>\n",
              "      <th>CHR</th>\n",
              "      <th>GLUR</th>\n",
              "      <th>HDL</th>\n",
              "      <th>TRR</th>\n",
              "      <th>UMALCR</th>\n",
              "      <th>BMI</th>\n",
              "      <th>STATIN</th>\n",
              "      <th>SBPTERTILE</th>\n",
              "      <th>EVENT_PRIMARY</th>\n",
              "    </tr>\n",
              "  </thead>\n",
              "  <tbody>\n",
              "    <tr>\n",
              "      <th>0</th>\n",
              "      <td>Regular</td>\n",
              "      <td>74.0</td>\n",
              "      <td>29.732061</td>\n",
              "      <td>True</td>\n",
              "      <td>145</td>\n",
              "      <td>80</td>\n",
              "      <td>2</td>\n",
              "      <td>False</td>\n",
              "      <td>3</td>\n",
              "      <td>True</td>\n",
              "      <td>67.69</td>\n",
              "      <td>1.11</td>\n",
              "      <td>False</td>\n",
              "      <td>False</td>\n",
              "      <td>60</td>\n",
              "      <td>False</td>\n",
              "      <td>True</td>\n",
              "      <td>True</td>\n",
              "      <td>False</td>\n",
              "      <td>False</td>\n",
              "      <td>WHITE</td>\n",
              "      <td>155</td>\n",
              "      <td>81</td>\n",
              "      <td>36</td>\n",
              "      <td>92</td>\n",
              "      <td>5.80</td>\n",
              "      <td>33.115201</td>\n",
              "      <td>True</td>\n",
              "      <td>3</td>\n",
              "      <td>False</td>\n",
              "    </tr>\n",
              "    <tr>\n",
              "      <th>1</th>\n",
              "      <td>Regular</td>\n",
              "      <td>8.0</td>\n",
              "      <td>29.677619</td>\n",
              "      <td>True</td>\n",
              "      <td>138</td>\n",
              "      <td>71</td>\n",
              "      <td>1</td>\n",
              "      <td>False</td>\n",
              "      <td>2</td>\n",
              "      <td>True</td>\n",
              "      <td>60.64</td>\n",
              "      <td>1.17</td>\n",
              "      <td>False</td>\n",
              "      <td>False</td>\n",
              "      <td>75</td>\n",
              "      <td>False</td>\n",
              "      <td>False</td>\n",
              "      <td>False</td>\n",
              "      <td>False</td>\n",
              "      <td>True</td>\n",
              "      <td>WHITE</td>\n",
              "      <td>243</td>\n",
              "      <td>107</td>\n",
              "      <td>61</td>\n",
              "      <td>188</td>\n",
              "      <td>5.45</td>\n",
              "      <td>28.842380</td>\n",
              "      <td>True</td>\n",
              "      <td>2</td>\n",
              "      <td>False</td>\n",
              "    </tr>\n",
              "    <tr>\n",
              "      <th>2</th>\n",
              "      <td>Intensive</td>\n",
              "      <td>25.0</td>\n",
              "      <td>17.443819</td>\n",
              "      <td>True</td>\n",
              "      <td>143</td>\n",
              "      <td>92</td>\n",
              "      <td>2</td>\n",
              "      <td>False</td>\n",
              "      <td>2</td>\n",
              "      <td>False</td>\n",
              "      <td>68.44</td>\n",
              "      <td>1.09</td>\n",
              "      <td>False</td>\n",
              "      <td>False</td>\n",
              "      <td>62</td>\n",
              "      <td>False</td>\n",
              "      <td>False</td>\n",
              "      <td>False</td>\n",
              "      <td>False</td>\n",
              "      <td>False</td>\n",
              "      <td>WHITE</td>\n",
              "      <td>180</td>\n",
              "      <td>116</td>\n",
              "      <td>47</td>\n",
              "      <td>125</td>\n",
              "      <td>13.33</td>\n",
              "      <td>33.643060</td>\n",
              "      <td>False</td>\n",
              "      <td>2</td>\n",
              "      <td>False</td>\n",
              "    </tr>\n",
              "    <tr>\n",
              "      <th>3</th>\n",
              "      <td>Regular</td>\n",
              "      <td>96.0</td>\n",
              "      <td>8.627849</td>\n",
              "      <td>False</td>\n",
              "      <td>123</td>\n",
              "      <td>68</td>\n",
              "      <td>2</td>\n",
              "      <td>False</td>\n",
              "      <td>1</td>\n",
              "      <td>False</td>\n",
              "      <td>71.94</td>\n",
              "      <td>0.78</td>\n",
              "      <td>False</td>\n",
              "      <td>False</td>\n",
              "      <td>75</td>\n",
              "      <td>True</td>\n",
              "      <td>False</td>\n",
              "      <td>False</td>\n",
              "      <td>False</td>\n",
              "      <td>True</td>\n",
              "      <td>WHITE</td>\n",
              "      <td>234</td>\n",
              "      <td>93</td>\n",
              "      <td>89</td>\n",
              "      <td>109</td>\n",
              "      <td>6.12</td>\n",
              "      <td>29.337871</td>\n",
              "      <td>False</td>\n",
              "      <td>1</td>\n",
              "      <td>False</td>\n",
              "    </tr>\n",
              "    <tr>\n",
              "      <th>4</th>\n",
              "      <td>Intensive</td>\n",
              "      <td>42.0</td>\n",
              "      <td>23.751437</td>\n",
              "      <td>True</td>\n",
              "      <td>126</td>\n",
              "      <td>51</td>\n",
              "      <td>2</td>\n",
              "      <td>False</td>\n",
              "      <td>2</td>\n",
              "      <td>False</td>\n",
              "      <td>50.19</td>\n",
              "      <td>1.36</td>\n",
              "      <td>True</td>\n",
              "      <td>False</td>\n",
              "      <td>81</td>\n",
              "      <td>False</td>\n",
              "      <td>False</td>\n",
              "      <td>False</td>\n",
              "      <td>False</td>\n",
              "      <td>True</td>\n",
              "      <td>WHITE</td>\n",
              "      <td>126</td>\n",
              "      <td>108</td>\n",
              "      <td>39</td>\n",
              "      <td>84</td>\n",
              "      <td>28.78</td>\n",
              "      <td>36.660286</td>\n",
              "      <td>False</td>\n",
              "      <td>1</td>\n",
              "      <td>False</td>\n",
              "    </tr>\n",
              "  </tbody>\n",
              "</table>\n",
              "</div>\n",
              "      <button class=\"colab-df-convert\" onclick=\"convertToInteractive('df-bd35cf7c-0b12-4c0f-8479-795fdfab0b7f')\"\n",
              "              title=\"Convert this dataframe to an interactive table.\"\n",
              "              style=\"display:none;\">\n",
              "        \n",
              "  <svg xmlns=\"http://www.w3.org/2000/svg\" height=\"24px\"viewBox=\"0 0 24 24\"\n",
              "       width=\"24px\">\n",
              "    <path d=\"M0 0h24v24H0V0z\" fill=\"none\"/>\n",
              "    <path d=\"M18.56 5.44l.94 2.06.94-2.06 2.06-.94-2.06-.94-.94-2.06-.94 2.06-2.06.94zm-11 1L8.5 8.5l.94-2.06 2.06-.94-2.06-.94L8.5 2.5l-.94 2.06-2.06.94zm10 10l.94 2.06.94-2.06 2.06-.94-2.06-.94-.94-2.06-.94 2.06-2.06.94z\"/><path d=\"M17.41 7.96l-1.37-1.37c-.4-.4-.92-.59-1.43-.59-.52 0-1.04.2-1.43.59L10.3 9.45l-7.72 7.72c-.78.78-.78 2.05 0 2.83L4 21.41c.39.39.9.59 1.41.59.51 0 1.02-.2 1.41-.59l7.78-7.78 2.81-2.81c.8-.78.8-2.07 0-2.86zM5.41 20L4 18.59l7.72-7.72 1.47 1.35L5.41 20z\"/>\n",
              "  </svg>\n",
              "      </button>\n",
              "      \n",
              "  <style>\n",
              "    .colab-df-container {\n",
              "      display:flex;\n",
              "      flex-wrap:wrap;\n",
              "      gap: 12px;\n",
              "    }\n",
              "\n",
              "    .colab-df-convert {\n",
              "      background-color: #E8F0FE;\n",
              "      border: none;\n",
              "      border-radius: 50%;\n",
              "      cursor: pointer;\n",
              "      display: none;\n",
              "      fill: #1967D2;\n",
              "      height: 32px;\n",
              "      padding: 0 0 0 0;\n",
              "      width: 32px;\n",
              "    }\n",
              "\n",
              "    .colab-df-convert:hover {\n",
              "      background-color: #E2EBFA;\n",
              "      box-shadow: 0px 1px 2px rgba(60, 64, 67, 0.3), 0px 1px 3px 1px rgba(60, 64, 67, 0.15);\n",
              "      fill: #174EA6;\n",
              "    }\n",
              "\n",
              "    [theme=dark] .colab-df-convert {\n",
              "      background-color: #3B4455;\n",
              "      fill: #D2E3FC;\n",
              "    }\n",
              "\n",
              "    [theme=dark] .colab-df-convert:hover {\n",
              "      background-color: #434B5C;\n",
              "      box-shadow: 0px 1px 3px 1px rgba(0, 0, 0, 0.15);\n",
              "      filter: drop-shadow(0px 1px 2px rgba(0, 0, 0, 0.3));\n",
              "      fill: #FFFFFF;\n",
              "    }\n",
              "  </style>\n",
              "\n",
              "      <script>\n",
              "        const buttonEl =\n",
              "          document.querySelector('#df-bd35cf7c-0b12-4c0f-8479-795fdfab0b7f button.colab-df-convert');\n",
              "        buttonEl.style.display =\n",
              "          google.colab.kernel.accessAllowed ? 'block' : 'none';\n",
              "\n",
              "        async function convertToInteractive(key) {\n",
              "          const element = document.querySelector('#df-bd35cf7c-0b12-4c0f-8479-795fdfab0b7f');\n",
              "          const dataTable =\n",
              "            await google.colab.kernel.invokeFunction('convertToInteractive',\n",
              "                                                     [key], {});\n",
              "          if (!dataTable) return;\n",
              "\n",
              "          const docLinkHtml = 'Like what you see? Visit the ' +\n",
              "            '<a target=\"_blank\" href=https://colab.research.google.com/notebooks/data_table.ipynb>data table notebook</a>'\n",
              "            + ' to learn more about interactive tables.';\n",
              "          element.innerHTML = '';\n",
              "          dataTable['output_type'] = 'display_data';\n",
              "          await google.colab.output.renderOutput(dataTable, element);\n",
              "          const docLink = document.createElement('div');\n",
              "          docLink.innerHTML = docLinkHtml;\n",
              "          element.appendChild(docLink);\n",
              "        }\n",
              "      </script>\n",
              "    </div>\n",
              "  </div>\n",
              "  "
            ],
            "text/plain": [
              "   INTENSIVE  NEWSITEID  RISK10YRS  ...  STATIN  SBPTERTILE  EVENT_PRIMARY\n",
              "0    Regular       74.0  29.732061  ...    True           3          False\n",
              "1    Regular        8.0  29.677619  ...    True           2          False\n",
              "2  Intensive       25.0  17.443819  ...   False           2          False\n",
              "3    Regular       96.0   8.627849  ...   False           1          False\n",
              "4  Intensive       42.0  23.751437  ...   False           1          False\n",
              "\n",
              "[5 rows x 30 columns]"
            ]
          },
          "execution_count": 3,
          "metadata": {},
          "output_type": "execute_result"
        }
      ],
      "source": [
        "df.head()"
      ]
    },
    {
      "cell_type": "markdown",
      "metadata": {
        "id": "fwVuijxfRH6m"
      },
      "source": [
        "We can see that each record contains the following features:\n",
        "\n",
        "- INTENSIVE (Categorical) - The clinical arm that was used (intensive or regular)\n",
        "- NEWSITEID (Categorical) - Site ID in which the participant was treated\n",
        "- RISK10YRS (Numeric) - Predicted risk for cardiovascular diseases\n",
        "- INCLUSIONFRS (Boolean) - Binary risk group\n",
        "- SBP (Numeric) - Systolic blood pressure \n",
        "- DBP (Numeric) - Diastolic blood pressure\n",
        "- N_AGENTS (Categorical) - Number of medications prescribed \n",
        "- NOAGENTS (Boolean) - Participants on no anti-hypertensive agents\n",
        "- SMOKE_3CAT (Categorical) - Derived: Baseline smoking status\n",
        "- ASPIRIN (Boolean) - BSL Hist: Daily Aspirin Use\n",
        "- EGFR (Numeric) - Lab: eGFR MDRD (mL/min/1.73m^2)\n",
        "- SCREAT (Numeric) - Lab: serum creatinine, mg/dL\n",
        "- SUB_CKD (Boolean) - Derived: Subgroup with CKD (eGFR < 60)\n",
        "- RACE_BLACK (Boolean) - Incl/Excl: Black, African-American\n",
        "- AGE (Numeric) - Derived: Age at randomization top-coded at 90 years\n",
        "- FEMALE (Boolean) - Derived: Female gender\n",
        "- SUB_CVD (Boolean) - Derived: subgroup with history of clinical/subclinical CVD\n",
        "- SUB_CLINICALCVD (Boolean) - Derived: subgroup with history of clinical CVD\n",
        "- SUB_SUBCLINICALCVD (Boolean) - Derived: subgroup with history of subclinical CVD\n",
        "- SUB_SENIOR (Boolean) - Derived: subgroup >= 75 years old at randomization\n",
        "- RACE4 (Categorical) - Derived: Four-level race variable (character)\n",
        "- CHR (Numeric) - Lab: Cholesterol, mg/dL\n",
        "- GLUR (Numeric) - Lab: Glucose, mg/dL\n",
        "- HDL (Numeric) - Lab: HDL-cholesterol direct, mg/dL\n",
        "- TRR (Numeric) - Lab: Triglycerides, mg/dL\n",
        "- UMALCR (Numeric) - Lab: mg Urine Alb / (g Creat * 0.01), mg/g Cr\n",
        "- BMI (Numeric) - Derived: body mass index (kg/m^2)\n",
        "- STATIN (Boolean) - Derived: on any statin\n",
        "- SBPTERTILE (Categorical) - Derived: Systolic BP tertile\n",
        "- EVENT_PRIMARY (Boolean) - Outcome (patient died or had a cardiovascular event)"
      ]
    },
    {
      "cell_type": "markdown",
      "metadata": {
        "id": "ozBneLfhNb_j"
      },
      "source": [
        "### ***Feature Analysis***"
      ]
    },
    {
      "cell_type": "markdown",
      "metadata": {
        "id": "CWxfbEAdR6Zz"
      },
      "source": [
        "Let's gather some information about different columns in the dataset:"
      ]
    },
    {
      "cell_type": "code",
      "execution_count": 4,
      "metadata": {
        "colab": {
          "base_uri": "https://localhost:8080/"
        },
        "id": "PnzLyQi40Juh",
        "outputId": "9e7f7a07-a393-42e6-dd28-00128bdf27da"
      },
      "outputs": [
        {
          "name": "stdout",
          "output_type": "stream",
          "text": [
            "<class 'pandas.core.frame.DataFrame'>\n",
            "RangeIndex: 8746 entries, 0 to 8745\n",
            "Data columns (total 30 columns):\n",
            " #   Column              Non-Null Count  Dtype  \n",
            "---  ------              --------------  -----  \n",
            " 0   INTENSIVE           8746 non-null   object \n",
            " 1   NEWSITEID           8281 non-null   float64\n",
            " 2   RISK10YRS           8746 non-null   float64\n",
            " 3   INCLUSIONFRS        8746 non-null   bool   \n",
            " 4   SBP                 8746 non-null   int64  \n",
            " 5   DBP                 8746 non-null   int64  \n",
            " 6   N_AGENTS            8746 non-null   int64  \n",
            " 7   NOAGENTS            8746 non-null   bool   \n",
            " 8   SMOKE_3CAT          8746 non-null   int64  \n",
            " 9   ASPIRIN             8746 non-null   bool   \n",
            " 10  EGFR                8746 non-null   float64\n",
            " 11  SCREAT              8746 non-null   float64\n",
            " 12  SUB_CKD             8746 non-null   bool   \n",
            " 13  RACE_BLACK          8746 non-null   bool   \n",
            " 14  AGE                 8746 non-null   int64  \n",
            " 15  FEMALE              8746 non-null   bool   \n",
            " 16  SUB_CVD             8746 non-null   bool   \n",
            " 17  SUB_CLINICALCVD     8746 non-null   bool   \n",
            " 18  SUB_SUBCLINICALCVD  8746 non-null   bool   \n",
            " 19  SUB_SENIOR          8746 non-null   bool   \n",
            " 20  RACE4               8746 non-null   object \n",
            " 21  CHR                 8746 non-null   int64  \n",
            " 22  GLUR                8746 non-null   int64  \n",
            " 23  HDL                 8746 non-null   int64  \n",
            " 24  TRR                 8746 non-null   int64  \n",
            " 25  UMALCR              8746 non-null   float64\n",
            " 26  BMI                 8746 non-null   float64\n",
            " 27  STATIN              8746 non-null   bool   \n",
            " 28  SBPTERTILE          8746 non-null   int64  \n",
            " 29  EVENT_PRIMARY       8746 non-null   bool   \n",
            "dtypes: bool(12), float64(6), int64(10), object(2)\n",
            "memory usage: 1.3+ MB\n"
          ]
        }
      ],
      "source": [
        "df.info()"
      ]
    },
    {
      "cell_type": "markdown",
      "metadata": {
        "id": "6oX-1tuaSEBS"
      },
      "source": [
        "We can see the following information:\n",
        "- There are 8746 records.\n",
        "- NEWSITEID column has 465 out of 8746 missing values (0.05%). \n",
        "\n",
        "Let's get some basic statistical details:"
      ]
    },
    {
      "cell_type": "code",
      "execution_count": 5,
      "metadata": {
        "colab": {
          "base_uri": "https://localhost:8080/",
          "height": 344
        },
        "id": "Rgmr1Pes0NnG",
        "outputId": "011b80c4-ca32-464d-8255-7a91276a2b0e"
      },
      "outputs": [
        {
          "data": {
            "text/html": [
              "\n",
              "  <div id=\"df-6a1780af-4677-4e7d-a222-cbd3a21f2a40\">\n",
              "    <div class=\"colab-df-container\">\n",
              "      <div>\n",
              "<style scoped>\n",
              "    .dataframe tbody tr th:only-of-type {\n",
              "        vertical-align: middle;\n",
              "    }\n",
              "\n",
              "    .dataframe tbody tr th {\n",
              "        vertical-align: top;\n",
              "    }\n",
              "\n",
              "    .dataframe thead th {\n",
              "        text-align: right;\n",
              "    }\n",
              "</style>\n",
              "<table border=\"1\" class=\"dataframe\">\n",
              "  <thead>\n",
              "    <tr style=\"text-align: right;\">\n",
              "      <th></th>\n",
              "      <th>NEWSITEID</th>\n",
              "      <th>RISK10YRS</th>\n",
              "      <th>SBP</th>\n",
              "      <th>DBP</th>\n",
              "      <th>N_AGENTS</th>\n",
              "      <th>SMOKE_3CAT</th>\n",
              "      <th>EGFR</th>\n",
              "      <th>SCREAT</th>\n",
              "      <th>AGE</th>\n",
              "      <th>CHR</th>\n",
              "      <th>GLUR</th>\n",
              "      <th>HDL</th>\n",
              "      <th>TRR</th>\n",
              "      <th>UMALCR</th>\n",
              "      <th>BMI</th>\n",
              "      <th>SBPTERTILE</th>\n",
              "    </tr>\n",
              "  </thead>\n",
              "  <tbody>\n",
              "    <tr>\n",
              "      <th>count</th>\n",
              "      <td>8281.000000</td>\n",
              "      <td>8746.000000</td>\n",
              "      <td>8746.000000</td>\n",
              "      <td>8746.000000</td>\n",
              "      <td>8746.000000</td>\n",
              "      <td>8746.000000</td>\n",
              "      <td>8746.000000</td>\n",
              "      <td>8746.000000</td>\n",
              "      <td>8746.000000</td>\n",
              "      <td>8746.000000</td>\n",
              "      <td>8746.000000</td>\n",
              "      <td>8746.000000</td>\n",
              "      <td>8746.000000</td>\n",
              "      <td>8746.000000</td>\n",
              "      <td>8746.000000</td>\n",
              "      <td>8746.000000</td>\n",
              "    </tr>\n",
              "    <tr>\n",
              "      <th>mean</th>\n",
              "      <td>55.820674</td>\n",
              "      <td>20.143798</td>\n",
              "      <td>139.704894</td>\n",
              "      <td>78.149325</td>\n",
              "      <td>1.837754</td>\n",
              "      <td>1.695632</td>\n",
              "      <td>71.689646</td>\n",
              "      <td>1.077442</td>\n",
              "      <td>67.893666</td>\n",
              "      <td>189.993025</td>\n",
              "      <td>98.907729</td>\n",
              "      <td>52.787674</td>\n",
              "      <td>126.092271</td>\n",
              "      <td>42.528651</td>\n",
              "      <td>29.882733</td>\n",
              "      <td>2.006403</td>\n",
              "    </tr>\n",
              "    <tr>\n",
              "      <th>std</th>\n",
              "      <td>29.743937</td>\n",
              "      <td>10.843465</td>\n",
              "      <td>15.623359</td>\n",
              "      <td>11.988268</td>\n",
              "      <td>1.035492</td>\n",
              "      <td>0.693989</td>\n",
              "      <td>20.684404</td>\n",
              "      <td>0.342435</td>\n",
              "      <td>9.432551</td>\n",
              "      <td>41.112715</td>\n",
              "      <td>13.614090</td>\n",
              "      <td>14.523649</td>\n",
              "      <td>84.036103</td>\n",
              "      <td>166.747879</td>\n",
              "      <td>5.786064</td>\n",
              "      <td>0.821080</td>\n",
              "    </tr>\n",
              "    <tr>\n",
              "      <th>min</th>\n",
              "      <td>1.000000</td>\n",
              "      <td>1.863811</td>\n",
              "      <td>72.000000</td>\n",
              "      <td>40.000000</td>\n",
              "      <td>0.000000</td>\n",
              "      <td>1.000000</td>\n",
              "      <td>14.660000</td>\n",
              "      <td>0.420000</td>\n",
              "      <td>50.000000</td>\n",
              "      <td>71.000000</td>\n",
              "      <td>44.000000</td>\n",
              "      <td>17.000000</td>\n",
              "      <td>23.000000</td>\n",
              "      <td>1.360000</td>\n",
              "      <td>13.734281</td>\n",
              "      <td>1.000000</td>\n",
              "    </tr>\n",
              "    <tr>\n",
              "      <th>25%</th>\n",
              "      <td>32.000000</td>\n",
              "      <td>12.051891</td>\n",
              "      <td>130.000000</td>\n",
              "      <td>70.000000</td>\n",
              "      <td>1.000000</td>\n",
              "      <td>1.000000</td>\n",
              "      <td>57.980000</td>\n",
              "      <td>0.860000</td>\n",
              "      <td>61.000000</td>\n",
              "      <td>161.000000</td>\n",
              "      <td>91.000000</td>\n",
              "      <td>43.000000</td>\n",
              "      <td>77.000000</td>\n",
              "      <td>5.630000</td>\n",
              "      <td>25.915815</td>\n",
              "      <td>1.000000</td>\n",
              "    </tr>\n",
              "    <tr>\n",
              "      <th>50%</th>\n",
              "      <td>58.000000</td>\n",
              "      <td>17.821904</td>\n",
              "      <td>138.000000</td>\n",
              "      <td>78.000000</td>\n",
              "      <td>2.000000</td>\n",
              "      <td>2.000000</td>\n",
              "      <td>71.310000</td>\n",
              "      <td>1.010000</td>\n",
              "      <td>67.000000</td>\n",
              "      <td>186.000000</td>\n",
              "      <td>97.000000</td>\n",
              "      <td>50.000000</td>\n",
              "      <td>107.000000</td>\n",
              "      <td>9.520000</td>\n",
              "      <td>29.041334</td>\n",
              "      <td>2.000000</td>\n",
              "    </tr>\n",
              "    <tr>\n",
              "      <th>75%</th>\n",
              "      <td>81.000000</td>\n",
              "      <td>25.762838</td>\n",
              "      <td>149.000000</td>\n",
              "      <td>86.000000</td>\n",
              "      <td>3.000000</td>\n",
              "      <td>2.000000</td>\n",
              "      <td>84.720000</td>\n",
              "      <td>1.210000</td>\n",
              "      <td>76.000000</td>\n",
              "      <td>214.000000</td>\n",
              "      <td>105.000000</td>\n",
              "      <td>60.000000</td>\n",
              "      <td>150.000000</td>\n",
              "      <td>21.430000</td>\n",
              "      <td>32.937432</td>\n",
              "      <td>3.000000</td>\n",
              "    </tr>\n",
              "    <tr>\n",
              "      <th>max</th>\n",
              "      <td>102.000000</td>\n",
              "      <td>81.187680</td>\n",
              "      <td>231.000000</td>\n",
              "      <td>134.000000</td>\n",
              "      <td>6.000000</td>\n",
              "      <td>3.000000</td>\n",
              "      <td>186.190000</td>\n",
              "      <td>4.040000</td>\n",
              "      <td>90.000000</td>\n",
              "      <td>437.000000</td>\n",
              "      <td>286.000000</td>\n",
              "      <td>161.000000</td>\n",
              "      <td>2414.000000</td>\n",
              "      <td>5000.000000</td>\n",
              "      <td>69.591365</td>\n",
              "      <td>3.000000</td>\n",
              "    </tr>\n",
              "  </tbody>\n",
              "</table>\n",
              "</div>\n",
              "      <button class=\"colab-df-convert\" onclick=\"convertToInteractive('df-6a1780af-4677-4e7d-a222-cbd3a21f2a40')\"\n",
              "              title=\"Convert this dataframe to an interactive table.\"\n",
              "              style=\"display:none;\">\n",
              "        \n",
              "  <svg xmlns=\"http://www.w3.org/2000/svg\" height=\"24px\"viewBox=\"0 0 24 24\"\n",
              "       width=\"24px\">\n",
              "    <path d=\"M0 0h24v24H0V0z\" fill=\"none\"/>\n",
              "    <path d=\"M18.56 5.44l.94 2.06.94-2.06 2.06-.94-2.06-.94-.94-2.06-.94 2.06-2.06.94zm-11 1L8.5 8.5l.94-2.06 2.06-.94-2.06-.94L8.5 2.5l-.94 2.06-2.06.94zm10 10l.94 2.06.94-2.06 2.06-.94-2.06-.94-.94-2.06-.94 2.06-2.06.94z\"/><path d=\"M17.41 7.96l-1.37-1.37c-.4-.4-.92-.59-1.43-.59-.52 0-1.04.2-1.43.59L10.3 9.45l-7.72 7.72c-.78.78-.78 2.05 0 2.83L4 21.41c.39.39.9.59 1.41.59.51 0 1.02-.2 1.41-.59l7.78-7.78 2.81-2.81c.8-.78.8-2.07 0-2.86zM5.41 20L4 18.59l7.72-7.72 1.47 1.35L5.41 20z\"/>\n",
              "  </svg>\n",
              "      </button>\n",
              "      \n",
              "  <style>\n",
              "    .colab-df-container {\n",
              "      display:flex;\n",
              "      flex-wrap:wrap;\n",
              "      gap: 12px;\n",
              "    }\n",
              "\n",
              "    .colab-df-convert {\n",
              "      background-color: #E8F0FE;\n",
              "      border: none;\n",
              "      border-radius: 50%;\n",
              "      cursor: pointer;\n",
              "      display: none;\n",
              "      fill: #1967D2;\n",
              "      height: 32px;\n",
              "      padding: 0 0 0 0;\n",
              "      width: 32px;\n",
              "    }\n",
              "\n",
              "    .colab-df-convert:hover {\n",
              "      background-color: #E2EBFA;\n",
              "      box-shadow: 0px 1px 2px rgba(60, 64, 67, 0.3), 0px 1px 3px 1px rgba(60, 64, 67, 0.15);\n",
              "      fill: #174EA6;\n",
              "    }\n",
              "\n",
              "    [theme=dark] .colab-df-convert {\n",
              "      background-color: #3B4455;\n",
              "      fill: #D2E3FC;\n",
              "    }\n",
              "\n",
              "    [theme=dark] .colab-df-convert:hover {\n",
              "      background-color: #434B5C;\n",
              "      box-shadow: 0px 1px 3px 1px rgba(0, 0, 0, 0.15);\n",
              "      filter: drop-shadow(0px 1px 2px rgba(0, 0, 0, 0.3));\n",
              "      fill: #FFFFFF;\n",
              "    }\n",
              "  </style>\n",
              "\n",
              "      <script>\n",
              "        const buttonEl =\n",
              "          document.querySelector('#df-6a1780af-4677-4e7d-a222-cbd3a21f2a40 button.colab-df-convert');\n",
              "        buttonEl.style.display =\n",
              "          google.colab.kernel.accessAllowed ? 'block' : 'none';\n",
              "\n",
              "        async function convertToInteractive(key) {\n",
              "          const element = document.querySelector('#df-6a1780af-4677-4e7d-a222-cbd3a21f2a40');\n",
              "          const dataTable =\n",
              "            await google.colab.kernel.invokeFunction('convertToInteractive',\n",
              "                                                     [key], {});\n",
              "          if (!dataTable) return;\n",
              "\n",
              "          const docLinkHtml = 'Like what you see? Visit the ' +\n",
              "            '<a target=\"_blank\" href=https://colab.research.google.com/notebooks/data_table.ipynb>data table notebook</a>'\n",
              "            + ' to learn more about interactive tables.';\n",
              "          element.innerHTML = '';\n",
              "          dataTable['output_type'] = 'display_data';\n",
              "          await google.colab.output.renderOutput(dataTable, element);\n",
              "          const docLink = document.createElement('div');\n",
              "          docLink.innerHTML = docLinkHtml;\n",
              "          element.appendChild(docLink);\n",
              "        }\n",
              "      </script>\n",
              "    </div>\n",
              "  </div>\n",
              "  "
            ],
            "text/plain": [
              "         NEWSITEID    RISK10YRS  ...          BMI   SBPTERTILE\n",
              "count  8281.000000  8746.000000  ...  8746.000000  8746.000000\n",
              "mean     55.820674    20.143798  ...    29.882733     2.006403\n",
              "std      29.743937    10.843465  ...     5.786064     0.821080\n",
              "min       1.000000     1.863811  ...    13.734281     1.000000\n",
              "25%      32.000000    12.051891  ...    25.915815     1.000000\n",
              "50%      58.000000    17.821904  ...    29.041334     2.000000\n",
              "75%      81.000000    25.762838  ...    32.937432     3.000000\n",
              "max     102.000000    81.187680  ...    69.591365     3.000000\n",
              "\n",
              "[8 rows x 16 columns]"
            ]
          },
          "execution_count": 5,
          "metadata": {},
          "output_type": "execute_result"
        }
      ],
      "source": [
        "df.describe()"
      ]
    },
    {
      "cell_type": "markdown",
      "metadata": {
        "id": "nKwII9vD1LL1"
      },
      "source": [
        "Let's create list for each type of column:"
      ]
    },
    {
      "cell_type": "code",
      "execution_count": 6,
      "metadata": {
        "id": "pRbjkpNq1LQk"
      },
      "outputs": [],
      "source": [
        "# define Categorical columns\n",
        "categorical_columns = [\"INTENSIVE\", \"NEWSITEID\", \"N_AGENTS\", \n",
        "                       \"SMOKE_3CAT\", \"RACE4\", \"SBPTERTILE\"]\n",
        "# define numeric columns\n",
        "numeric_columns = [\"RISK10YRS\", \"SBP\", \"DBP\", \"EGFR\", \"SCREAT\",\n",
        "                   \"AGE\", \"CHR\", \"GLUR\", \"HDL\", \"TRR\", \"UMALCR\", \"BMI\"]\n",
        "# define bool columns\n",
        "bool_columns = [\"INCLUSIONFRS\", \"NOAGENTS\", \"ASPIRIN\", \"SUB_CKD\", \n",
        "                \"RACE_BLACK\", \"FEMALE\", \"SUB_CVD\", \"SUB_CLINICALCVD\",\n",
        "                \"SUB_SUBCLINICALCVD\", \"SUB_SENIOR\", \"STATIN\"]"
      ]
    },
    {
      "cell_type": "markdown",
      "metadata": {
        "id": "jEHPnEjnxJwI"
      },
      "source": [
        "### ***EDA***"
      ]
    },
    {
      "cell_type": "markdown",
      "metadata": {
        "id": "b6qncxpgxL6D"
      },
      "source": [
        "Let's plot the categorical columns:"
      ]
    },
    {
      "cell_type": "code",
      "execution_count": 32,
      "metadata": {
        "colab": {
          "base_uri": "https://localhost:8080/",
          "height": 362
        },
        "id": "1uWdDkJ61V1e",
        "outputId": "89a8cffb-5675-46f4-8472-5f54f0bbe144"
      },
      "outputs": [
        {
          "data": {
            "image/png": "[encoded data removed]",
            "text/plain": [
              "<Figure size 1080x360 with 5 Axes>"
            ]
          },
          "metadata": {
            "needs_background": "light"
          },
          "output_type": "display_data"
        }
      ],
      "source": [
        "# copy categorical columns to remove NEWSITEID\n",
        "cols = categorical_columns.copy() \n",
        "cols.remove('NEWSITEID')\n",
        "\n",
        "# create sub plot for each categorical column\n",
        "fig, axs = plt.subplots(2,3, figsize=(15,5))\n",
        "fig.delaxes(axs[1, -1])\n",
        "\n",
        "# loop over each subplot categorical column\n",
        "for col, ax in zip(cols, axs.flatten()):\n",
        "    # plot countplot\n",
        "    sns.countplot(x=col, data=df, ax=ax)\n",
        "\n",
        "# show plot\n",
        "fig.suptitle(\"Categorical Columns Count Plot\")\n",
        "fig.tight_layout(rect=[0, 0.03, 1, 0.95])\n",
        "plt.show()"
      ]
    },
    {
      "cell_type": "markdown",
      "metadata": {
        "id": "PKn9xofs-kIu"
      },
      "source": [
        "Let's plot the boolean columns:"
      ]
    },
    {
      "cell_type": "code",
      "execution_count": 33,
      "metadata": {
        "colab": {
          "base_uri": "https://localhost:8080/",
          "height": 362
        },
        "id": "aMeyqmVC-mWJ",
        "outputId": "f3348614-461a-41c1-ad3e-1c3efc12b87f"
      },
      "outputs": [
        {
          "data": {
            "image/png": "[encoded data removed]",
            "text/plain": [
              "<Figure size 1080x360 with 11 Axes>"
            ]
          },
          "metadata": {
            "needs_background": "light"
          },
          "output_type": "display_data"
        }
      ],
      "source": [
        "# copy bool columns\n",
        "cols = bool_columns.copy() \n",
        "\n",
        "# create sub plot for each bool column\n",
        "fig, axs = plt.subplots(3, 4, figsize=(15,5))\n",
        "fig.delaxes(axs[2, -1])\n",
        "\n",
        "# loop over each subplot bool column\n",
        "for col, ax in zip(cols, axs.flatten()):\n",
        "    # plot countplot\n",
        "    sns.countplot(x=col, data=df, ax=ax)\n",
        "\n",
        "# show plot\n",
        "fig.suptitle(\"Boolean Columns Count Plot\")\n",
        "fig.tight_layout(rect=[0, 0.03, 1, 0.95])\n",
        "plt.show()"
      ]
    },
    {
      "cell_type": "markdown",
      "metadata": {
        "id": "vhtTpELw-4jX"
      },
      "source": [
        "Let's plot the numeric columns:"
      ]
    },
    {
      "cell_type": "code",
      "execution_count": 34,
      "metadata": {
        "colab": {
          "base_uri": "https://localhost:8080/",
          "height": 362
        },
        "id": "u7wShjmR-4pK",
        "outputId": "a8c9ff07-8dd3-44b2-8dfe-7f252810dc80"
      },
      "outputs": [
        {
          "data": {
            "image/png": "[encoded data removed]",
            "text/plain": [
              "<Figure size 1080x360 with 12 Axes>"
            ]
          },
          "metadata": {
            "needs_background": "light"
          },
          "output_type": "display_data"
        }
      ],
      "source": [
        "# copy numeric columns\n",
        "cols = numeric_columns.copy() \n",
        "\n",
        "# create sub plot for each numeric column\n",
        "fig, axs = plt.subplots(3, 4, figsize=(15,5))\n",
        "\n",
        "# loop over each subplot numeric column\n",
        "for col, ax in zip(cols, axs.flatten()):\n",
        "    # plot countplot\n",
        "    sns.histplot(x=col, data=df, ax=ax, kde=True)\n",
        "\n",
        "# show plot\n",
        "fig.suptitle(\"Numeric Columns Histogram\")\n",
        "fig.tight_layout(rect=[0, 0.03, 1, 0.95])\n",
        "plt.show()"
      ]
    },
    {
      "cell_type": "markdown",
      "metadata": {
        "id": "r8QqK3j2_hna"
      },
      "source": [
        "Lastly let's plot the target plot:"
      ]
    },
    {
      "cell_type": "code",
      "execution_count": 10,
      "metadata": {
        "colab": {
          "base_uri": "https://localhost:8080/",
          "height": 297
        },
        "id": "u7fL8dtF_hsb",
        "outputId": "86a4cc1e-d634-4761-c4d7-e5d09adb5a85"
      },
      "outputs": [
        {
          "data": {
            "image/png": "[encoded data removed]",
            "text/plain": [
              "<Figure size 432x288 with 1 Axes>"
            ]
          },
          "metadata": {
            "needs_background": "light"
          },
          "output_type": "display_data"
        }
      ],
      "source": [
        "# plot countplot\n",
        "sns.countplot(x='EVENT_PRIMARY', data=df)\n",
        "\n",
        "# show plot\n",
        "plt.title(\"Target Count PLot\")\n",
        "plt.tight_layout()\n",
        "plt.show()"
      ]
    },
    {
      "cell_type": "markdown",
      "metadata": {
        "id": "EEx4ioRq_zzD"
      },
      "source": [
        "From these plots we can get a lot of information:\n",
        "1. Some numeric columns are skewed so scaling is needed.\n",
        "2. Target is imbalanced so accuracy as a metric will not be good (majority rule will get good accuracy). Also we need to find a way to deal with this imbalance."
      ]
    },
    {
      "cell_type": "markdown",
      "metadata": {
        "id": "IP5eI1B7UHlr"
      },
      "source": [
        "### ***Pre Process***"
      ]
    },
    {
      "cell_type": "markdown",
      "metadata": {
        "id": "PXa2Z3ojkqxB"
      },
      "source": [
        "Let's create features and target sets:"
      ]
    },
    {
      "cell_type": "code",
      "execution_count": 11,
      "metadata": {
        "id": "nO_VlTyIkq2n"
      },
      "outputs": [],
      "source": [
        "# create target set\n",
        "y = df[\"EVENT_PRIMARY\"].astype('int')\n",
        "# create features set\n",
        "X = df.drop([\"EVENT_PRIMARY\"], axis=1)"
      ]
    },
    {
      "cell_type": "markdown",
      "metadata": {
        "id": "KwXgSOELn0j1"
      },
      "source": [
        "Let's split data to train and test set:"
      ]
    },
    {
      "cell_type": "code",
      "execution_count": 12,
      "metadata": {
        "id": "ULXLfy2Hn0ri"
      },
      "outputs": [],
      "source": [
        "# split data to train and test sets\n",
        "X_train, X_test, y_train, y_test = train_test_split(\n",
        "    X, y, test_size=0.2, random_state=0)"
      ]
    },
    {
      "cell_type": "markdown",
      "metadata": {
        "id": "D0iyvk2WioTX"
      },
      "source": [
        "Let's create transformers to preprocess columns:"
      ]
    },
    {
      "cell_type": "code",
      "execution_count": 13,
      "metadata": {
        "id": "hH6RqHS7iobl"
      },
      "outputs": [],
      "source": [
        "# create transformer for boolean column\n",
        "# missing data filled with most frequent value\n",
        "# true value turn to 1 and false to 0\n",
        "boolean_transformer = Pipeline(\n",
        "    steps=[(\"int\", FunctionTransformer(np.int64))]\n",
        ")\n",
        "\n",
        "# create transformer for numeric columns\n",
        "# missing data filled median value of column\n",
        "# standard scaling is applied\n",
        "numeric_transformer = Pipeline(\n",
        "    steps=[(\"imputer\", SimpleImputer(strategy=\"median\")),\n",
        "           (\"scaler\", StandardScaler())]\n",
        ")\n",
        "\n",
        "# create transformer for categorical columns\n",
        "# missing data filled with most frequent value\n",
        "# one hot encoding applied to each column\n",
        "categorical_transformer = Pipeline(\n",
        "    steps=[(\"imputer\", SimpleImputer(strategy=\"most_frequent\")),\n",
        "           (\"ohe\", OneHotEncoder(handle_unknown = \"ignore\"))]\n",
        ")\n",
        "\n",
        "# combine transformers to apply on corresponding columns\n",
        "preprocessor = ColumnTransformer(\n",
        "    transformers=[\n",
        "        (\"bool\", boolean_transformer, bool_columns),\n",
        "        (\"num\", numeric_transformer, numeric_columns),\n",
        "        (\"cat\", categorical_transformer, categorical_columns),\n",
        "    ]\n",
        ")"
      ]
    },
    {
      "cell_type": "markdown",
      "metadata": {
        "id": "3sJAPEB4jhHB"
      },
      "source": [
        "Let's preprocess our data:"
      ]
    },
    {
      "cell_type": "code",
      "execution_count": 14,
      "metadata": {
        "id": "KHe3agzpjhO4"
      },
      "outputs": [],
      "source": [
        "X_train = preprocessor.fit_transform(X_train)\n",
        "X_test = preprocessor.transform(X_test)"
      ]
    },
    {
      "cell_type": "markdown",
      "metadata": {
        "id": "QvGpgIG4kOeV"
      },
      "source": [
        "### ***Deal with Imbalance Data Using Resample***"
      ]
    },
    {
      "cell_type": "markdown",
      "metadata": {
        "id": "3Q1QKAj4n4nv"
      },
      "source": [
        "Let's resample using smote algorithm:"
      ]
    },
    {
      "cell_type": "code",
      "execution_count": 15,
      "metadata": {
        "id": "DZw4_gAbkOit"
      },
      "outputs": [],
      "source": [
        "X_train, y_train = SMOTE().fit_resample(X_train, y_train)"
      ]
    },
    {
      "cell_type": "markdown",
      "metadata": {
        "id": "A_fD2v1JPuu5"
      },
      "source": [
        "Let's create a metric for imbalance data (geometric mean score):"
      ]
    },
    {
      "cell_type": "code",
      "execution_count": 16,
      "metadata": {
        "id": "qa-iguyDQDZV"
      },
      "outputs": [],
      "source": [
        "gm_scorer = make_scorer(geometric_mean_score, greater_is_better=True,\n",
        "                        average='binary')"
      ]
    },
    {
      "cell_type": "markdown",
      "metadata": {
        "id": "Ryh9IAwmSU-d"
      },
      "source": [
        "### ***Model 1 - Logistic Regression Classifier***"
      ]
    },
    {
      "cell_type": "markdown",
      "metadata": {
        "id": "2c4sfmtIp7oj"
      },
      "source": [
        "The first model we will train is a logistic regression classifier:"
      ]
    },
    {
      "cell_type": "code",
      "execution_count": 17,
      "metadata": {
        "colab": {
          "base_uri": "https://localhost:8080/"
        },
        "id": "mNFP6zStqtqg",
        "outputId": "ac6b32dc-b53b-43c2-a53f-bf0ed6ebdb3e"
      },
      "outputs": [
        {
          "name": "stdout",
          "output_type": "stream",
          "text": [
            "Fitting 5 folds for each of 8 candidates, totalling 40 fits\n",
            "[CV 1/5] END C=0.0001, max_iter=300, penalty=l1, solver=liblinear;, score=0.000 total time=   0.0s\n",
            "[CV 2/5] END C=0.0001, max_iter=300, penalty=l1, solver=liblinear;, score=0.000 total time=   0.0s\n",
            "[CV 3/5] END C=0.0001, max_iter=300, penalty=l1, solver=liblinear;, score=0.000 total time=   0.0s\n",
            "[CV 4/5] END C=0.0001, max_iter=300, penalty=l1, solver=liblinear;, score=0.000 total time=   0.0s\n",
            "[CV 5/5] END C=0.0001, max_iter=300, penalty=l1, solver=liblinear;, score=0.000 total time=   0.0s\n",
            "[CV 1/5] END C=0.0001, max_iter=300, penalty=l2, solver=liblinear;, score=0.640 total time=   0.0s\n",
            "[CV 2/5] END C=0.0001, max_iter=300, penalty=l2, solver=liblinear;, score=0.631 total time=   0.0s\n",
            "[CV 3/5] END C=0.0001, max_iter=300, penalty=l2, solver=liblinear;, score=0.618 total time=   0.0s\n",
            "[CV 4/5] END C=0.0001, max_iter=300, penalty=l2, solver=liblinear;, score=0.640 total time=   0.0s\n",
            "[CV 5/5] END C=0.0001, max_iter=300, penalty=l2, solver=liblinear;, score=0.620 total time=   0.0s\n",
            "[CV 1/5] END C=0.046415888336127774, max_iter=300, penalty=l1, solver=liblinear;, score=0.694 total time=   0.1s\n",
            "[CV 2/5] END C=0.046415888336127774, max_iter=300, penalty=l1, solver=liblinear;, score=0.679 total time=   0.1s\n",
            "[CV 3/5] END C=0.046415888336127774, max_iter=300, penalty=l1, solver=liblinear;, score=0.677 total time=   0.1s\n",
            "[CV 4/5] END C=0.046415888336127774, max_iter=300, penalty=l1, solver=liblinear;, score=0.695 total time=   0.1s\n",
            "[CV 5/5] END C=0.046415888336127774, max_iter=300, penalty=l1, solver=liblinear;, score=0.692 total time=   0.1s\n",
            "[CV 1/5] END C=0.046415888336127774, max_iter=300, penalty=l2, solver=liblinear;, score=0.702 total time=   0.1s\n",
            "[CV 2/5] END C=0.046415888336127774, max_iter=300, penalty=l2, solver=liblinear;, score=0.703 total time=   0.1s\n",
            "[CV 3/5] END C=0.046415888336127774, max_iter=300, penalty=l2, solver=liblinear;, score=0.693 total time=   0.1s\n",
            "[CV 4/5] END C=0.046415888336127774, max_iter=300, penalty=l2, solver=liblinear;, score=0.710 total time=   0.1s\n",
            "[CV 5/5] END C=0.046415888336127774, max_iter=300, penalty=l2, solver=liblinear;, score=0.709 total time=   0.1s\n",
            "[CV 1/5] END C=21.54434690031882, max_iter=300, penalty=l1, solver=liblinear;, score=0.701 total time=   0.3s\n",
            "[CV 2/5] END C=21.54434690031882, max_iter=300, penalty=l1, solver=liblinear;, score=0.710 total time=   1.1s\n",
            "[CV 3/5] END C=21.54434690031882, max_iter=300, penalty=l1, solver=liblinear;, score=0.694 total time=   0.2s\n",
            "[CV 4/5] END C=21.54434690031882, max_iter=300, penalty=l1, solver=liblinear;, score=0.713 total time=   0.3s\n",
            "[CV 5/5] END C=21.54434690031882, max_iter=300, penalty=l1, solver=liblinear;, score=0.719 total time=   0.4s\n",
            "[CV 1/5] END C=21.54434690031882, max_iter=300, penalty=l2, solver=liblinear;, score=0.700 total time=   0.2s\n",
            "[CV 2/5] END C=21.54434690031882, max_iter=300, penalty=l2, solver=liblinear;, score=0.709 total time=   0.2s\n",
            "[CV 3/5] END C=21.54434690031882, max_iter=300, penalty=l2, solver=liblinear;, score=0.694 total time=   0.2s\n",
            "[CV 4/5] END C=21.54434690031882, max_iter=300, penalty=l2, solver=liblinear;, score=0.714 total time=   0.2s\n",
            "[CV 5/5] END C=21.54434690031882, max_iter=300, penalty=l2, solver=liblinear;, score=0.719 total time=   0.2s\n",
            "[CV 1/5] END C=10000.0, max_iter=300, penalty=l1, solver=liblinear;, score=0.700 total time=   0.2s\n",
            "[CV 2/5] END C=10000.0, max_iter=300, penalty=l1, solver=liblinear;, score=0.708 total time=   0.2s\n",
            "[CV 3/5] END C=10000.0, max_iter=300, penalty=l1, solver=liblinear;, score=0.694 total time=   0.2s\n",
            "[CV 4/5] END C=10000.0, max_iter=300, penalty=l1, solver=liblinear;, score=0.714 total time=   0.2s\n",
            "[CV 5/5] END C=10000.0, max_iter=300, penalty=l1, solver=liblinear;, score=0.718 total time=   0.1s\n",
            "[CV 1/5] END C=10000.0, max_iter=300, penalty=l2, solver=liblinear;, score=0.700 total time=   0.4s\n",
            "[CV 2/5] END C=10000.0, max_iter=300, penalty=l2, solver=liblinear;, score=0.708 total time=   0.4s\n",
            "[CV 3/5] END C=10000.0, max_iter=300, penalty=l2, solver=liblinear;, score=0.694 total time=   0.4s\n",
            "[CV 4/5] END C=10000.0, max_iter=300, penalty=l2, solver=liblinear;, score=0.714 total time=   0.4s\n",
            "[CV 5/5] END C=10000.0, max_iter=300, penalty=l2, solver=liblinear;, score=0.718 total time=   0.4s\n",
            "Best parameters (0.7073972501094324):\n",
            "{'C': 21.54434690031882, 'max_iter': 300, 'penalty': 'l1', 'solver': 'liblinear'}\n"
          ]
        }
      ],
      "source": [
        "# define model \n",
        "lr = LogisticRegression(random_state=0)\n",
        "\n",
        "# define grid search parameters\n",
        "param_grid = {\n",
        "    \"C\": np.logspace(-4, 4, 4),\n",
        "    \"max_iter\": [300],\n",
        "    \"penalty\": [\"l1\", \"l2\"],\n",
        "    \"solver\" : [\"liblinear\"]\n",
        "}\n",
        "\n",
        "# create grid search\n",
        "lr_search = GridSearchCV(lr, param_grid,\n",
        "                      cv=StratifiedKFold(n_splits=5), \n",
        "                      scoring=gm_scorer,\n",
        "                      verbose = 3\n",
        ")\n",
        "\n",
        "# fit grid search\n",
        "lr_search.fit(X_train, y_train)\n",
        "\n",
        "# print best score and parameters\n",
        "print(f\"Best parameters ({lr_search.best_score_}):\")\n",
        "print(lr_search.best_params_)"
      ]
    },
    {
      "cell_type": "markdown",
      "metadata": {
        "id": "71d2zPt4vLn-"
      },
      "source": [
        "Let's get the test score:"
      ]
    },
    {
      "cell_type": "code",
      "execution_count": 18,
      "metadata": {
        "colab": {
          "base_uri": "https://localhost:8080/"
        },
        "id": "0QF8nZJYvLtx",
        "outputId": "eb6f2bf0-5942-4f12-a0a1-e7e44d6da738"
      },
      "outputs": [
        {
          "name": "stdout",
          "output_type": "stream",
          "text": [
            "Test score: 0.2821829665539517\n"
          ]
        }
      ],
      "source": [
        "# predict on test set\n",
        "y_pred = lr_search.best_estimator_.predict(X_test)\n",
        "\n",
        "# print results\n",
        "print(f\"Test score: {geometric_mean_score(y_pred, y_test)}\")"
      ]
    },
    {
      "cell_type": "markdown",
      "metadata": {
        "id": "2seTg5welONR"
      },
      "source": [
        "Lastly, let's plot the confusion matrix:"
      ]
    },
    {
      "cell_type": "code",
      "execution_count": 19,
      "metadata": {
        "colab": {
          "base_uri": "https://localhost:8080/",
          "height": 350
        },
        "id": "8l2QItOzJiYz",
        "outputId": "7f020dee-9310-4c1a-e227-afc0c67fc7d2"
      },
      "outputs": [
        {
          "data": {
            "image/png": "[encoded data removed]",
            "text/plain": [
              "<Figure size 720x360 with 2 Axes>"
            ]
          },
          "metadata": {
            "needs_background": "light"
          },
          "output_type": "display_data"
        }
      ],
      "source": [
        "# plot confusion matrix\n",
        "plt.figure(figsize=(10,5))\n",
        "sns.heatmap(confusion_matrix(y_test, y_pred), linewidths=1, annot=True,\n",
        "            fmt='g')\n",
        "plt.title(\"Logistic Regression Confusion Matrix\")\n",
        "plt.ylabel('True Classes')\n",
        "plt.xlabel('Predicted Classes')\n",
        "plt.show()"
      ]
    },
    {
      "cell_type": "markdown",
      "metadata": {
        "id": "9NGMkHf4JPyb"
      },
      "source": [
        "### ***Model 2 - AdaBoost Classifier***"
      ]
    },
    {
      "cell_type": "markdown",
      "metadata": {
        "id": "2vQCYQP4oO7q"
      },
      "source": [
        "The second model we will train is a ada boost classifier:"
      ]
    },
    {
      "cell_type": "code",
      "execution_count": 20,
      "metadata": {
        "colab": {
          "base_uri": "https://localhost:8080/"
        },
        "id": "UOw6r0wxKXKT",
        "outputId": "b227c8c1-1e18-4147-e3c5-6bc8bf04822b"
      },
      "outputs": [
        {
          "name": "stdout",
          "output_type": "stream",
          "text": [
            "Fitting 5 folds for each of 4 candidates, totalling 20 fits\n",
            "[CV 1/5] END ...................n_estimators=50;, score=0.790 total time=   1.6s\n",
            "[CV 2/5] END ...................n_estimators=50;, score=0.932 total time=   1.5s\n",
            "[CV 3/5] END ...................n_estimators=50;, score=0.946 total time=   1.5s\n",
            "[CV 4/5] END ...................n_estimators=50;, score=0.951 total time=   1.5s\n",
            "[CV 5/5] END ...................n_estimators=50;, score=0.944 total time=   1.5s\n",
            "[CV 1/5] END ..................n_estimators=100;, score=0.797 total time=   3.1s\n",
            "[CV 2/5] END ..................n_estimators=100;, score=0.963 total time=   3.0s\n",
            "[CV 3/5] END ..................n_estimators=100;, score=0.974 total time=   3.0s\n",
            "[CV 4/5] END ..................n_estimators=100;, score=0.970 total time=   3.0s\n",
            "[CV 5/5] END ..................n_estimators=100;, score=0.966 total time=   3.1s\n",
            "[CV 1/5] END ..................n_estimators=150;, score=0.805 total time=   4.7s\n",
            "[CV 2/5] END ..................n_estimators=150;, score=0.975 total time=   4.5s\n",
            "[CV 3/5] END ..................n_estimators=150;, score=0.982 total time=   4.5s\n",
            "[CV 4/5] END ..................n_estimators=150;, score=0.980 total time=   4.6s\n",
            "[CV 5/5] END ..................n_estimators=150;, score=0.975 total time=   4.5s\n",
            "[CV 1/5] END ..................n_estimators=200;, score=0.810 total time=   6.2s\n",
            "[CV 2/5] END ..................n_estimators=200;, score=0.982 total time=   6.1s\n",
            "[CV 3/5] END ..................n_estimators=200;, score=0.985 total time=   6.0s\n",
            "[CV 4/5] END ..................n_estimators=200;, score=0.980 total time=   6.0s\n",
            "[CV 5/5] END ..................n_estimators=200;, score=0.978 total time=   6.0s\n",
            "Best parameters (0.9470390643453154):\n",
            "{'n_estimators': 200}\n"
          ]
        }
      ],
      "source": [
        "# define model \n",
        "ensemble = AdaBoostClassifier(random_state=0)\n",
        "\n",
        "# define grid search parameters\n",
        "param_grid = {\n",
        "    \"n_estimators\": [50, 100, 150, 200],\n",
        "}\n",
        "\n",
        "# create grid search\n",
        "ensemble_search = GridSearchCV(ensemble, param_grid,\n",
        "                      cv=StratifiedKFold(n_splits=5), \n",
        "                      scoring=gm_scorer,\n",
        "                      verbose=3\n",
        ")\n",
        "\n",
        "# fit grid search\n",
        "ensemble_search.fit(X_train, y_train)\n",
        "\n",
        "# print best score and parameters\n",
        "print(f\"Best parameters ({ensemble_search.best_score_}):\")\n",
        "print(ensemble_search.best_params_)"
      ]
    },
    {
      "cell_type": "markdown",
      "metadata": {
        "id": "prE7qFtooM0-"
      },
      "source": [
        "Let's get the test score:"
      ]
    },
    {
      "cell_type": "code",
      "execution_count": 21,
      "metadata": {
        "colab": {
          "base_uri": "https://localhost:8080/"
        },
        "id": "0DMW5a7wV3ic",
        "outputId": "6a7e551a-6935-4b79-9b17-16bd809a34f2"
      },
      "outputs": [
        {
          "name": "stdout",
          "output_type": "stream",
          "text": [
            "Test score: 0.31234204768113494\n"
          ]
        }
      ],
      "source": [
        "# predict on test set\n",
        "y_pred = ensemble_search.best_estimator_.predict(X_test)\n",
        "\n",
        "# print results\n",
        "print(f\"Test score: {geometric_mean_score(y_pred, y_test)}\")"
      ]
    },
    {
      "cell_type": "markdown",
      "metadata": {
        "id": "wqcY7aVgoKjE"
      },
      "source": [
        "Lastly, let's plot the confusion matrix:"
      ]
    },
    {
      "cell_type": "code",
      "execution_count": 22,
      "metadata": {
        "colab": {
          "base_uri": "https://localhost:8080/",
          "height": 350
        },
        "id": "oPqr9DSvV11t",
        "outputId": "1ec0b556-b5ee-4a9a-f644-040cf919c897"
      },
      "outputs": [
        {
          "data": {
            "image/png": "[encoded data removed]",
            "text/plain": [
              "<Figure size 720x360 with 2 Axes>"
            ]
          },
          "metadata": {
            "needs_background": "light"
          },
          "output_type": "display_data"
        }
      ],
      "source": [
        "# plot confusion matrix\n",
        "plt.figure(figsize=(10,5))\n",
        "sns.heatmap(confusion_matrix(y_test, y_pred), linewidths=1, annot=True,\n",
        "            fmt='g')\n",
        "plt.title(\"Random Forest Confusion Matrix\")\n",
        "plt.ylabel(\"True Classes\")\n",
        "plt.xlabel(\"Predicted Classes\")\n",
        "plt.show()"
      ]
    },
    {
      "cell_type": "markdown",
      "metadata": {
        "id": "ZEFHKZfLWFsR"
      },
      "source": [
        "### ***Model 3 - Multi-layer Perceptron Classifier***"
      ]
    },
    {
      "cell_type": "markdown",
      "metadata": {
        "id": "8vnY8FJgpN5I"
      },
      "source": [
        "The third model we will train is a multi-layer perceptron classifier:"
      ]
    },
    {
      "cell_type": "code",
      "execution_count": 23,
      "metadata": {
        "colab": {
          "base_uri": "https://localhost:8080/"
        },
        "id": "eqUum87-WqT0",
        "outputId": "71277ee6-3866-403c-c4d1-cfdeff21062f"
      },
      "outputs": [
        {
          "name": "stdout",
          "output_type": "stream",
          "text": [
            "Fitting 5 folds for each of 4 candidates, totalling 20 fits\n",
            "[CV 1/5] END .......batch_size=16, max_iter=300;, score=0.975 total time=  46.2s\n",
            "[CV 2/5] END .......batch_size=16, max_iter=300;, score=0.974 total time=  50.4s\n",
            "[CV 3/5] END .......batch_size=16, max_iter=300;, score=0.975 total time=  51.5s\n",
            "[CV 4/5] END .......batch_size=16, max_iter=300;, score=0.975 total time= 1.2min\n",
            "[CV 5/5] END .......batch_size=16, max_iter=300;, score=0.975 total time=  59.5s\n",
            "[CV 1/5] END .......batch_size=32, max_iter=300;, score=0.979 total time=  35.0s\n",
            "[CV 2/5] END .......batch_size=32, max_iter=300;, score=0.977 total time=  32.1s\n",
            "[CV 3/5] END .......batch_size=32, max_iter=300;, score=0.973 total time=  34.9s\n",
            "[CV 4/5] END .......batch_size=32, max_iter=300;, score=0.975 total time=  36.4s\n",
            "[CV 5/5] END .......batch_size=32, max_iter=300;, score=0.973 total time=  33.4s\n",
            "[CV 1/5] END .......batch_size=64, max_iter=300;, score=0.977 total time=  23.5s\n",
            "[CV 2/5] END .......batch_size=64, max_iter=300;, score=0.975 total time=  23.6s\n",
            "[CV 3/5] END .......batch_size=64, max_iter=300;, score=0.973 total time=  25.0s\n",
            "[CV 4/5] END .......batch_size=64, max_iter=300;, score=0.970 total time=  24.7s\n",
            "[CV 5/5] END .......batch_size=64, max_iter=300;, score=0.967 total time=  24.4s\n",
            "[CV 1/5] END ......batch_size=512, max_iter=300;, score=0.974 total time=  25.7s\n",
            "[CV 2/5] END ......batch_size=512, max_iter=300;, score=0.976 total time=  26.6s\n",
            "[CV 3/5] END ......batch_size=512, max_iter=300;, score=0.973 total time=  26.8s\n",
            "[CV 4/5] END ......batch_size=512, max_iter=300;, score=0.973 total time=  26.1s\n",
            "[CV 5/5] END ......batch_size=512, max_iter=300;, score=0.969 total time=  26.9s\n",
            "Best parameters (0.9751557815875088):\n",
            "{'batch_size': 32, 'max_iter': 300}\n"
          ]
        }
      ],
      "source": [
        "# define model \n",
        "dl = MLPClassifier(random_state=0)\n",
        "\n",
        "# define grid search parameters\n",
        "param_grid = {\n",
        "    \"batch_size\": [16, 32, 64, 512],\n",
        "    \"max_iter\" : [300]\n",
        "}\n",
        "\n",
        "# create grid search\n",
        "dl_search = GridSearchCV(dl, param_grid,\n",
        "                      cv=StratifiedKFold(n_splits=5), \n",
        "                      scoring=gm_scorer,\n",
        "                      verbose=3\n",
        ")\n",
        "\n",
        "# fit grid search\n",
        "dl_search.fit(X_train, y_train)\n",
        "\n",
        "# print best score and parameters\n",
        "print(f\"Best parameters ({dl_search.best_score_}):\")\n",
        "print(dl_search.best_params_)"
      ]
    },
    {
      "cell_type": "markdown",
      "metadata": {
        "id": "Ws46IgFmpJb6"
      },
      "source": [
        "Let's get the test score:"
      ]
    },
    {
      "cell_type": "code",
      "execution_count": 24,
      "metadata": {
        "colab": {
          "base_uri": "https://localhost:8080/"
        },
        "id": "emmk8OsqpJb7",
        "outputId": "8db0ccb5-9207-48c0-ce8b-b7d7642d5a51"
      },
      "outputs": [
        {
          "name": "stdout",
          "output_type": "stream",
          "text": [
            "Test score: 0.33349227795017017\n"
          ]
        }
      ],
      "source": [
        "# predict on test set\n",
        "y_pred = dl_search.best_estimator_.predict(X_test)\n",
        "\n",
        "# print results\n",
        "print(f\"Test score: {geometric_mean_score(y_pred, y_test)}\")"
      ]
    },
    {
      "cell_type": "markdown",
      "metadata": {
        "id": "4zFV7wubpJb7"
      },
      "source": [
        "Lastly, let's plot the confusion matrix:"
      ]
    },
    {
      "cell_type": "code",
      "execution_count": 25,
      "metadata": {
        "colab": {
          "base_uri": "https://localhost:8080/",
          "height": 350
        },
        "id": "9JmWDap1pJb7",
        "outputId": "f0a524a5-b2f9-436d-f0a3-0a1241727166"
      },
      "outputs": [
        {
          "data": {
            "image/png": "[encoded data removed]",
            "text/plain": [
              "<Figure size 720x360 with 2 Axes>"
            ]
          },
          "metadata": {
            "needs_background": "light"
          },
          "output_type": "display_data"
        }
      ],
      "source": [
        "# plot confusion matrix\n",
        "plt.figure(figsize=(10,5))\n",
        "sns.heatmap(confusion_matrix(y_test, y_pred), linewidths=1, annot=True,\n",
        "            fmt='g')\n",
        "plt.title(\"Multi-layer Perceptron Confusion Matrix\")\n",
        "plt.ylabel('True Classes')\n",
        "plt.xlabel('Predicted Classes')\n",
        "plt.show()"
      ]
    },
    {
      "cell_type": "markdown",
      "metadata": {
        "id": "zhkb0Qgwp76f"
      },
      "source": [
        "### ***Summarization and Answers to Questions***"
      ]
    },
    {
      "cell_type": "markdown",
      "metadata": {
        "id": "symWeQfBm64p"
      },
      "source": [
        "***Method and details:***\n",
        "\n",
        "- We use the logistic regression, ada boost and multilayer perceptron.\n",
        "- Each model has its best parameters using grid search.\n",
        "- Evaluation was done using a geometric mean score."
      ]
    },
    {
      "cell_type": "markdown",
      "metadata": {
        "id": "VjAzRMh2sQTv"
      },
      "source": [
        "***Comparison of the models:***\n",
        "\n",
        "- Logistic regression and Ada boost  have the lowest geometric mean score but we can see that logistic regression is able to predict pretty well on the minority class and random forest is not.\n",
        "- Multi layer perceptron has the biggest geometric mean score and also we can see it is not able to predict the minority class that well but better than random forest."
      ]
    },
    {
      "cell_type": "markdown",
      "metadata": {
        "id": "yzZaETm0qFsi"
      },
      "source": [
        "***Question: For each model, does the model overfit?***\n",
        "\n",
        "Answer:\n",
        "\n",
        "Yes we can see all the models overfit to the majority class causing test scores to be low and training scores to be high."
      ]
    },
    {
      "cell_type": "markdown",
      "metadata": {
        "id": "tOw8CBmcmbG8"
      },
      "source": [
        "***Question: In the DL model, what's the effect of batch size? In general, and do you see this effect in the current task?***\n",
        "\n",
        "Answer:\n",
        "Batch size is one of the important hyperparameters to tune. larger batch size allows computational speedups. However, it is well known that too large of a batch size will lead to poor generalization. On the other hand, using smaller batch sizes have been empirically shown to have faster convergence to good solutions as it allows the model to start learning before having seen all the data. But the downside could be that the model is not guaranteed to converge to the global optima.\n",
        "\n",
        "For this task we can see that large batch sizes (64,512) take less time to execute and do not generalize that well but also small batch (16,32) sizes do not generalize that well, probably because of the data."
      ]
    }
  ],
  "metadata": {
    "colab": {
      "collapsed_sections": [],
      "name": "EX4_Clinical_Trial_Classification.ipynb",
      "provenance": []
    },
    "kernelspec": {
      "display_name": "Python 3",
      "name": "python3"
    },
    "language_info": {
      "name": "python"
    }
  },
  "nbformat": 4,
  "nbformat_minor": 0
}
